{
 "cells": [
  {
   "cell_type": "code",
   "execution_count": 1,
   "metadata": {},
   "outputs": [],
   "source": [
    "import ScatterPlotToolbox as toolbox\n",
    "import numpy\n",
    "from matplotlib import pyplot as plt\n",
    "from PIL import Image"
   ]
  },
  {
   "cell_type": "code",
   "execution_count": 2,
   "metadata": {},
   "outputs": [],
   "source": [
    "PATH_1947L: str = '/home/homeGlobal/jreuter/Studium/MasterStudium/MasterArbeit/Dateien/Vervet1947L_sagittal_s0374_rv/Scattering-Stack_s0139.nii'\n",
    "PATH_OPTIC: str = '/home/homeGlobal/jreuter/Studium/MasterStudium/MasterArbeit/Dateien/Stack_s0125.nii'\n",
    "PATH_VER: str = '/home/homeGlobal/jreuter/Studium/MasterStudium/MasterArbeit/Dateien/90_Stack.tif'\n",
    "PATH_RAT: str = '/home/homeGlobal/jreuter/Studium/MasterStudium/MasterArbeit/Dateien/78_Stack.tif'\n",
    "PATH_OPTIC_NEW = '/home/homeGlobal/jreuter/Studium/MasterStudium/MasterArbeit/Dateien/158_OpticChiasm_s0036_kk_rv_crop.nii'\n",
    "ROISIZE: int = 3"
   ]
  },
  {
   "cell_type": "code",
   "execution_count": 3,
   "metadata": {},
   "outputs": [],
   "source": [
    "def full_pipeline(PATH, NAME, ROISIZE):\n",
    "    image = toolbox.read_image(PATH)\n",
    "    path_name = NAME\n",
    "    roiset = toolbox.zaxis_roiset(image, ROISIZE)\n",
    "    print(\"Roi finished\")\n",
    "    max_array = toolbox.max_array_from_roiset(roiset)\n",
    "    max_image = toolbox.reshape_array_to_image(max_array, image.shape[0], ROISIZE)\n",
    "    Image.fromarray(max_image).resize(image.shape[:2][::-1]).save(path_name+'_max.tiff')\n",
    "    print(\"Max image written\")\n",
    "    min_array = toolbox.min_array_from_roiset(roiset)\n",
    "    min_image = toolbox.reshape_array_to_image(min_array, image.shape[0], ROISIZE)\n",
    "    Image.fromarray(min_image).resize(image.shape[:2][::-1]).save(path_name+'_min.tiff')\n",
    "    print(\"Min image written\")\n",
    "    peak_array = toolbox.peak_array_from_roiset(roiset)\n",
    "    peak_image = toolbox.reshape_array_to_image(peak_array, image.shape[0], ROISIZE)\n",
    "    Image.fromarray(peak_image).resize(image.shape[:2][::-1]).save(path_name+'_peaks.tiff')\n",
    "    print(\"Peak image written\")\n",
    "    direction_array = toolbox.non_crossing_direction_array_from_roiset(roiset)\n",
    "    direction_image = toolbox.reshape_array_to_image(direction_array, image.shape[0], ROISIZE)\n",
    "    Image.fromarray(direction_image).resize(image.shape[:2][::-1]).save(path_name+'_non_crossing_dir.tiff')\n",
    "    print(\"Non Crossing Direction written\")\n",
    "    crossing_array = numpy.where(peak_array > 2, 255, 0).astype('uint8')\n",
    "    crossing_image = toolbox.reshape_array_to_image(crossing_array, image.shape[0], ROISIZE)\n",
    "    Image.fromarray(crossing_image).resize(image.shape[:2][::-1]).save(path_name+'_crossing.tiff')\n",
    "    print(\"4 Peak written\")\n",
    "    direction_array = toolbox.crossing_direction_array_from_roiset(roiset)\n",
    "    dir_1 = toolbox.reshape_array_to_image(direction_array[:, 0], image.shape[0], ROISIZE)\n",
    "    dir_2 = toolbox.reshape_array_to_image(direction_array[:, 1], image.shape[0], ROISIZE)\n",
    "    Image.fromarray(dir_1).resize(image.shape[:2][::-1]).save(path_name+'_dir_1.tiff')\n",
    "    Image.fromarray(dir_2).resize(image.shape[:2][::-1]).save(path_name+'_dir_2.tiff')\n",
    "    print(\"Crossing Directions written\")"
   ]
  },
  {
   "cell_type": "code",
   "execution_count": 4,
   "metadata": {},
   "outputs": [
    {
     "name": "stdout",
     "output_type": "stream",
     "text": [
      "/home/homeGlobal/jreuter/Studium/MasterStudium/MasterArbeit/Dateien/Vervet1947L_sagittal_s0374_rv/Scattering-Stack_s0139.nii Scattering-Stack_s0139\n",
      "Roi finished\n",
      "Max image written\n",
      "Min image written\n",
      "Peak image written\n",
      "Non Crossing Direction written\n",
      "4 Peak written\n",
      "Crossing Directions written\n",
      "/home/homeGlobal/jreuter/Studium/MasterStudium/MasterArbeit/Dateien/Stack_s0125.nii Stack_s0125\n",
      "Roi finished\n",
      "Max image written\n",
      "Min image written\n",
      "Peak image written\n",
      "Non Crossing Direction written\n",
      "4 Peak written\n",
      "Crossing Directions written\n",
      "/home/homeGlobal/jreuter/Studium/MasterStudium/MasterArbeit/Dateien/90_Stack.tif 90_Stack\n",
      "Roi finished\n",
      "Max image written\n",
      "Min image written\n",
      "Peak image written\n",
      "Non Crossing Direction written\n",
      "4 Peak written\n",
      "Crossing Directions written\n",
      "/home/homeGlobal/jreuter/Studium/MasterStudium/MasterArbeit/Dateien/78_Stack.tif 78_Stack\n",
      "Roi finished\n",
      "Max image written\n",
      "Min image written\n",
      "Peak image written\n",
      "Non Crossing Direction written\n",
      "4 Peak written\n",
      "Crossing Directions written\n",
      "/home/homeGlobal/jreuter/Studium/MasterStudium/MasterArbeit/Dateien/158_OpticChiasm_s0036_kk_rv_crop.nii 158_OpticChiasm_s0036_kk_rv_crop\n",
      "Roi finished\n",
      "Max image written\n",
      "Min image written\n",
      "Peak image written\n",
      "Non Crossing Direction written\n",
      "4 Peak written\n",
      "Crossing Directions written\n"
     ]
    }
   ],
   "source": [
    "paths = [PATH_1947L, PATH_OPTIC, PATH_VER, PATH_RAT, PATH_OPTIC_NEW]\n",
    "names = ['Scattering-Stack_s0139', 'Stack_s0125', '90_Stack', '78_Stack', '158_OpticChiasm_s0036_kk_rv_crop']\n",
    "\n",
    "for path, name in zip(paths, names):\n",
    "    print(path, name)\n",
    "    full_pipeline(path, name, ROISIZE)"
   ]
  },
  {
   "cell_type": "code",
   "execution_count": null,
   "metadata": {},
   "outputs": [],
   "source": [
    "image = toolbox.read_image(PATH_OPTIC)\n",
    "roiset = toolbox.zaxis_roiset(image, ROISIZE)"
   ]
  },
  {
   "cell_type": "code",
   "execution_count": null,
   "metadata": {},
   "outputs": [],
   "source": [
    "max_array = toolbox.max_array_from_roiset(roiset)\n",
    "max_image = toolbox.reshape_array_to_image(max_array, image.shape[0], ROISIZE)\n",
    "Image.fromarray(max_image).resize(image.shape[:2][::-1]).save(path_name+'_max.tiff')"
   ]
  },
  {
   "cell_type": "code",
   "execution_count": null,
   "metadata": {},
   "outputs": [],
   "source": [
    "min_array = toolbox.min_array_from_roiset(roiset)\n",
    "min_image = toolbox.reshape_array_to_image(min_array, image.shape[0], ROISIZE)\n",
    "Image.fromarray(min_image).resize(image.shape[:2][::-1]).save(path_name+'_min.tiff')"
   ]
  },
  {
   "cell_type": "code",
   "execution_count": null,
   "metadata": {},
   "outputs": [],
   "source": [
    "peak_array = toolbox.peak_array_from_roiset(roiset)\n",
    "peak_image = toolbox.reshape_array_to_image(peak_array, image.shape[0], ROISIZE)\n",
    "Image.fromarray(peak_image).resize(image.shape[:2][::-1]).save(path_name+'_peaks.tiff')"
   ]
  },
  {
   "cell_type": "code",
   "execution_count": null,
   "metadata": {},
   "outputs": [],
   "source": [
    "direction_array = toolbox.non_crossing_direction_array_from_roiset(roiset)\n",
    "direction_image = toolbox.reshape_array_to_image(direction_array, image.shape[0], ROISIZE)\n",
    "Image.fromarray(direction_image).resize(image.shape[:2][::-1]).save(path_name+'_non_crossing_dir.tiff')"
   ]
  },
  {
   "cell_type": "code",
   "execution_count": null,
   "metadata": {},
   "outputs": [],
   "source": [
    "crossing_array = numpy.where(peak_array == 4, 255, 0).astype('uint8')\n",
    "crossing_image = toolbox.reshape_array_to_image(crossing_array, image.shape[0], ROISIZE)\n",
    "Image.fromarray(crossing_image).resize(image.shape[:2][::-1]).save(path_name+'_crossing.tiff')"
   ]
  },
  {
   "cell_type": "code",
   "execution_count": null,
   "metadata": {},
   "outputs": [],
   "source": [
    "direction_array = toolbox.crossing_direction_array_from_roiset(roiset)\n",
    "dir_1 = toolbox.reshape_array_to_image(direction_array[:, 0], image.shape[0], ROISIZE)\n",
    "dir_2 = toolbox.reshape_array_to_image(direction_array[:, 1], image.shape[0], ROISIZE)\n",
    "Image.fromarray(dir_1).resize(image.shape[:2][::-1]).save(path_name+'_dir_1.tiff')\n",
    "Image.fromarray(dir_2).resize(image.shape[:2][::-1]).save(path_name+'_dir_2.tiff')"
   ]
  },
  {
   "cell_type": "code",
   "execution_count": null,
   "metadata": {},
   "outputs": [],
   "source": []
  }
 ],
 "metadata": {
  "kernelspec": {
   "display_name": "Python 3",
   "language": "python",
   "name": "python3"
  },
  "language_info": {
   "codemirror_mode": {
    "name": "ipython",
    "version": 3
   },
   "file_extension": ".py",
   "mimetype": "text/x-python",
   "name": "python",
   "nbconvert_exporter": "python",
   "pygments_lexer": "ipython3",
   "version": "3.7.3"
  }
 },
 "nbformat": 4,
 "nbformat_minor": 2
}
